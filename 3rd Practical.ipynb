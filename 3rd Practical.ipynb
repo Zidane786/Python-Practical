{
 "cells": [
  {
   "cell_type": "markdown",
   "metadata": {},
   "source": [
    "# Square of 1 to 10 number:-"
   ]
  },
  {
   "cell_type": "code",
   "execution_count": 1,
   "metadata": {},
   "outputs": [
    {
     "name": "stdout",
     "output_type": "stream",
     "text": [
      "Square of 1 is 1\n",
      "Square of 2 is 4\n",
      "Square of 3 is 9\n",
      "Square of 4 is 16\n",
      "Square of 5 is 25\n",
      "Square of 6 is 36\n",
      "Square of 7 is 49\n",
      "Square of 8 is 64\n",
      "Square of 9 is 81\n",
      "Square of 10 is 100\n"
     ]
    }
   ],
   "source": [
    "for i in range(1,11):\n",
    "    print(f\"Square of {i} is {i**2}\")"
   ]
  },
  {
   "cell_type": "markdown",
   "metadata": {},
   "source": [
    "# Find Addition of all square from 1 to 10:-"
   ]
  },
  {
   "cell_type": "code",
   "execution_count": 2,
   "metadata": {},
   "outputs": [
    {
     "name": "stdout",
     "output_type": "stream",
     "text": [
      "385\n"
     ]
    }
   ],
   "source": [
    "square_of_1_to_10=list()\n",
    "for i in range(1,11):\n",
    "    square_of_1_to_10.append(i**2)\n",
    "sum_of_square_of_1_to_10=sum(square_of_1_to_10)\n",
    "print(sum_of_square_of_1_to_10)"
   ]
  },
  {
   "cell_type": "markdown",
   "metadata": {},
   "source": [
    "# Factorial of any number:-\n"
   ]
  },
  {
   "cell_type": "code",
   "execution_count": 8,
   "metadata": {},
   "outputs": [
    {
     "name": "stdout",
     "output_type": "stream",
     "text": [
      "Enter number whoes factorial u need to find:-5\n",
      "Factorial of 5 is 120\n"
     ]
    }
   ],
   "source": [
    "num=int(input(\"Enter number whoes factorial u need to find:-\"))\n",
    "duplicate_num=num\n",
    "def Factorial(num):\n",
    "    for i in range(1,num):\n",
    "        num=num*i\n",
    "    print(f\"Factorial of {duplicate_num} is {num}\")\n",
    "Factorial(num)"
   ]
  },
  {
   "cell_type": "markdown",
   "metadata": {},
   "source": [
    "# Factors of Any Number:-"
   ]
  },
  {
   "cell_type": "code",
   "execution_count": 14,
   "metadata": {},
   "outputs": [
    {
     "name": "stdout",
     "output_type": "stream",
     "text": [
      "Enter number whoes factors u need to find:-4\n",
      "Factors of 4 is [1, 2, 4]\n"
     ]
    }
   ],
   "source": [
    "num1=int(input(\"Enter number whoes factors u need to find:-\"))\n",
    "factors=list()\n",
    "def Factors(num):\n",
    "    for i in range(1,num+1):\n",
    "        if num%i==0:\n",
    "            factors.append(i)\n",
    "    print(f\"Factors of {num1} is {factors}\")\n",
    "    return(factors)\n",
    "Factors(num1)"
   ]
  },
  {
   "cell_type": "markdown",
   "metadata": {},
   "source": [
    "# WAP to check whether the number is prime or not:-"
   ]
  },
  {
   "cell_type": "code",
   "execution_count": 19,
   "metadata": {},
   "outputs": [
    {
     "name": "stdout",
     "output_type": "stream",
     "text": [
      "Enter number to check whether it is prime or not:-5\n",
      "Factors of 4 is [1, 2, 4, 1, 5, 1, 5]\n",
      "5 is not prime Number\n"
     ]
    }
   ],
   "source": [
    "num2=int(input(\"Enter number to check whether it is prime or not:-\"))\n",
    "def if_prime_or_not(num):\n",
    "        return Factors(num)==[1,num]\n",
    "def prime_or_not(num):\n",
    "    if if_prime_or_not(num):\n",
    "        print(f\"{num} is prime number\")\n",
    "    else:\n",
    "        print(f\"{num} is not prime Number\")\n",
    "prime_or_not(num2)"
   ]
  },
  {
   "cell_type": "markdown",
   "metadata": {},
   "source": [
    "# Creating Empty List and inserting 1 to 10 in it and perform insert,extend,append,sum functions:-"
   ]
  },
  {
   "cell_type": "code",
   "execution_count": 33,
   "metadata": {},
   "outputs": [
    {
     "name": "stdout",
     "output_type": "stream",
     "text": [
      "Printing empty List []\n",
      "Appending 1 to 10 using append function and result is:-\n",
      "[1, 2, 3, 4, 5, 6, 7, 8, 9]\n",
      "inserting 100 at index 5 using insert function and the result is:-\n",
      "[1, 2, 3, 4, 5, 100, 6, 7, 8, 9]\n",
      "Using extend function we add element like [11, 12, 13] in the list and the result is:-\n",
      "[1, 2, 3, 4, 5, 100, 6, 7, 8, 9, 11, 12, 13]\n",
      "Sum of List is 181\n"
     ]
    }
   ],
   "source": [
    "List=list()\n",
    "print(f\"Printing empty List {List}\")\n",
    "for i in range(1,10):\n",
    "    List.append(i)\n",
    "    \n",
    "print(f\"Appending {1} to {10} using append function and result is:-\\n{List}\")\n",
    "List.insert(5,100)\n",
    "print(f\"inserting {100} at index {5} using insert function and the result is:-\\n{List}\")\n",
    "List.extend([11,12,13])\n",
    "print(f\"Using extend function we add element like {[11,12,13]} in the list and the result is:-\\n{List}\")\n",
    "sum_list=sum(List)\n",
    "print(f\"Sum of List is {sum_list}\")"
   ]
  },
  {
   "cell_type": "markdown",
   "metadata": {},
   "source": [
    "# WAP to create 2 different list in first list insert 1 to 10 number and in second list insert square of 1 to 10 numbers:-"
   ]
  },
  {
   "cell_type": "code",
   "execution_count": 34,
   "metadata": {},
   "outputs": [
    {
     "name": "stdout",
     "output_type": "stream",
     "text": [
      "List of 1 to 10 numbers is:-[1, 2, 3, 4, 5, 6, 7, 8, 9, 10]\n",
      "Square of List [1, 2, 3, 4, 5, 6, 7, 8, 9, 10] is:-[1, 4, 9, 16, 25, 36, 49, 64, 81, 100]\n"
     ]
    }
   ],
   "source": [
    "list_of_number=list()\n",
    "list_of_square_of_that_numbers=list()\n",
    "for i in range(1,11):\n",
    "    list_of_number.append(i)\n",
    "    list_of_square_of_that_numbers.append(i**2)\n",
    "print(f\"List of {1} to {10} numbers is:-{list_of_number}\")\n",
    "print(f\"Square of List {list_of_number} is:-{list_of_square_of_that_numbers}\")"
   ]
  },
  {
   "cell_type": "markdown",
   "metadata": {},
   "source": [
    "# WAP for nested list [[1,1],[2,4],[3,9],[4,16],.......]:-"
   ]
  },
  {
   "cell_type": "code",
   "execution_count": 37,
   "metadata": {},
   "outputs": [
    {
     "name": "stdout",
     "output_type": "stream",
     "text": [
      "[[1, 1], [2, 4], [3, 9], [4, 16], [5, 25], [6, 36], [7, 49], [8, 64], [9, 81], [10, 100]]\n",
      "[[1, 1], [2, 4], [3, 9], [4, 16], [5, 25], [6, 36], [7, 49], [8, 64], [9, 81], [10, 100]]\n"
     ]
    }
   ],
   "source": [
    "nested_list1=list()\n",
    "nested_list2=list()\n",
    "for i in range(1,11):\n",
    "    nested_list1.append([i,i**2])\n",
    "print(nested_list1)\n",
    "for i in range(0,10):\n",
    "    nested_list2.append([list_of_number[i],list_of_square_of_that_numbers[i]])\n",
    "print(nested_list2)"
   ]
  },
  {
   "cell_type": "markdown",
   "metadata": {},
   "source": [
    "# WAP to extract element of nested list:-"
   ]
  },
  {
   "cell_type": "code",
   "execution_count": 39,
   "metadata": {},
   "outputs": [
    {
     "name": "stdout",
     "output_type": "stream",
     "text": [
      "1\n",
      "1\n",
      "2\n",
      "4\n",
      "3\n",
      "9\n",
      "4\n",
      "16\n",
      "5\n",
      "25\n",
      "6\n",
      "36\n",
      "7\n",
      "49\n",
      "8\n",
      "64\n",
      "9\n",
      "81\n",
      "10\n",
      "100\n"
     ]
    }
   ],
   "source": [
    "for i in range(0,10):\n",
    "    for j in range(0,2):\n",
    "        print(nested_list2[i][j])"
   ]
  },
  {
   "cell_type": "markdown",
   "metadata": {},
   "source": [
    "# WAP to extract element of nested list do it in function:-"
   ]
  },
  {
   "cell_type": "code",
   "execution_count": 41,
   "metadata": {},
   "outputs": [
    {
     "name": "stdout",
     "output_type": "stream",
     "text": [
      "1\n",
      "1\n",
      "2\n",
      "4\n",
      "3\n",
      "9\n",
      "4\n",
      "16\n",
      "5\n",
      "25\n",
      "6\n",
      "36\n",
      "7\n",
      "49\n",
      "8\n",
      "64\n",
      "9\n",
      "81\n",
      "10\n",
      "100\n"
     ]
    }
   ],
   "source": [
    "def extracting_nested_list_elements():\n",
    "    for i in range(0,10):\n",
    "        for j in range(0,2):\n",
    "            print(nested_list2[i][j])\n",
    "extracting_nested_list_elements()"
   ]
  },
  {
   "cell_type": "markdown",
   "metadata": {},
   "source": [
    "# Define function to print square of 1 to n numbers:-"
   ]
  },
  {
   "cell_type": "code",
   "execution_count": 45,
   "metadata": {},
   "outputs": [
    {
     "name": "stdout",
     "output_type": "stream",
     "text": [
      "Enter number whoes square you need to find5\n",
      "Square of 1 is 1\n",
      "Square of 2 is 4\n",
      "Square of 3 is 9\n",
      "Square of 4 is 16\n",
      "Square of 5 is 25\n"
     ]
    }
   ],
   "source": [
    "num5=int(input(\"Enter number whoes square you need to find\"))\n",
    "def sq(num):\n",
    "    for i in range(1,num+1):\n",
    "        print(f\"Square of {i} is {i**2}\")\n",
    "sq(num5)"
   ]
  },
  {
   "cell_type": "code",
   "execution_count": null,
   "metadata": {},
   "outputs": [],
   "source": []
  }
 ],
 "metadata": {
  "kernelspec": {
   "display_name": "Python 3",
   "language": "python",
   "name": "python3"
  },
  "language_info": {
   "codemirror_mode": {
    "name": "ipython",
    "version": 3
   },
   "file_extension": ".py",
   "mimetype": "text/x-python",
   "name": "python",
   "nbconvert_exporter": "python",
   "pygments_lexer": "ipython3",
   "version": "3.7.1"
  }
 },
 "nbformat": 4,
 "nbformat_minor": 2
}
